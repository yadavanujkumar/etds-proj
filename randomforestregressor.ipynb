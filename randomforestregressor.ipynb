{
 "cells": [
  {
   "cell_type": "code",
   "execution_count": 1,
   "id": "a99b5df7-050b-48f2-a612-d43ceedd1eea",
   "metadata": {},
   "outputs": [
    {
     "name": "stdout",
     "output_type": "stream",
     "text": [
      "Mean Squared Error: 22268408834.340584\n",
      "R-squared: -0.09776799024173566\n",
      "Training complete. Model, scaler, and training columns saved.\n"
     ]
    }
   ],
   "source": [
    "import pandas as pd\n",
    "import numpy as np\n",
    "from sklearn.ensemble import RandomForestRegressor\n",
    "from sklearn.model_selection import train_test_split\n",
    "from sklearn.metrics import mean_squared_error, r2_score\n",
    "from sklearn.preprocessing import StandardScaler\n",
    "import pickle\n",
    "\n",
    "# Load your dataset (adjust the path as needed)\n",
    "data = pd.read_csv(\"Ship.csv\")\n",
    "\n",
    "# Drop rows with missing values in critical categorical columns\n",
    "data = data.dropna(subset=['Ship_Type', 'Route_Type'])\n",
    "\n",
    "# Select features and target variable\n",
    "# We'll use: Ship_Type, Route_Type, Speed, Distance, and Cargo Weight to predict Operational Cost\n",
    "X = data[['Ship_Type', 'Route_Type', 'Speed_Over_Ground_knots', 'Distance_Traveled_nm', 'Cargo_Weight_tons']]\n",
    "y = data['Operational_Cost_USD']\n",
    "\n",
    "# Convert categorical features using one-hot encoding\n",
    "X = pd.get_dummies(X, columns=['Ship_Type', 'Route_Type'], drop_first=True)\n",
    "\n",
    "# Save the training columns (we'll need these in the UI)\n",
    "training_columns = X.columns\n",
    "\n",
    "# Split data into training and test sets (80/20 split)\n",
    "X_train, X_test, y_train, y_test = train_test_split(X, y, test_size=0.2, random_state=42)\n",
    "\n",
    "# Standardize features\n",
    "scaler = StandardScaler()\n",
    "X_train_scaled = scaler.fit_transform(X_train)\n",
    "X_test_scaled = scaler.transform(X_test)\n",
    "\n",
    "# Train a RandomForestRegressor model\n",
    "model = RandomForestRegressor(random_state=42)\n",
    "model.fit(X_train_scaled, y_train)\n",
    "\n",
    "# Evaluate the model\n",
    "y_pred = model.predict(X_test_scaled)\n",
    "mse = mean_squared_error(y_test, y_pred)\n",
    "r2 = r2_score(y_test, y_pred)\n",
    "print(\"Mean Squared Error:\", mse)\n",
    "print(\"R-squared:\", r2)\n",
    "\n",
    "# Save the model, scaler, and training columns using pickle\n",
    "pickle.dump(model, open(\"model2.pkl\", \"wb\"))\n",
    "pickle.dump(scaler, open(\"scaler2.pkl\", \"wb\"))\n",
    "pickle.dump(training_columns, open(\"training_columns2.pkl\", \"wb\"))\n",
    "\n",
    "print(\"Training complete. Model, scaler, and training columns saved.\")\n"
   ]
  },
  {
   "cell_type": "code",
   "execution_count": null,
   "id": "02e31665-408e-49f0-b69f-621a5f643883",
   "metadata": {},
   "outputs": [],
   "source": []
  }
 ],
 "metadata": {
  "kernelspec": {
   "display_name": "Python 3 (ipykernel)",
   "language": "python",
   "name": "python3"
  },
  "language_info": {
   "codemirror_mode": {
    "name": "ipython",
    "version": 3
   },
   "file_extension": ".py",
   "mimetype": "text/x-python",
   "name": "python",
   "nbconvert_exporter": "python",
   "pygments_lexer": "ipython3",
   "version": "3.9.13"
  }
 },
 "nbformat": 4,
 "nbformat_minor": 5
}
