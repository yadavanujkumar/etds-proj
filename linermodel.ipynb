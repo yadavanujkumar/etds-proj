{
 "cells": [
  {
   "cell_type": "code",
   "execution_count": 1,
   "id": "ab871fda-e3ae-4f61-af07-3ef720bdce22",
   "metadata": {},
   "outputs": [
    {
     "name": "stdout",
     "output_type": "stream",
     "text": [
      "Mean Squared Error: 20418658674.817135\n",
      "R-squared: -0.006580670564994007\n",
      "Root Mean Squared Error: 142893.87206880894\n",
      "Model, scaler, and training columns saved successfully!\n"
     ]
    }
   ],
   "source": [
    "import pandas as pd\n",
    "import numpy as np\n",
    "from sklearn.linear_model import LinearRegression\n",
    "from sklearn.model_selection import train_test_split\n",
    "from sklearn.metrics import mean_squared_error, r2_score\n",
    "from sklearn.preprocessing import StandardScaler\n",
    "import pickle\n",
    "\n",
    "# Load your dataset (adjust the path as needed)\n",
    "data = pd.read_csv(\"Ship.csv\")\n",
    "\n",
    "# Handle missing values in categorical columns (drop rows with missing Ship_Type/Route_Type)\n",
    "data = data.dropna(subset=['Ship_Type', 'Route_Type'])\n",
    "\n",
    "# Select features and target variable\n",
    "# Features: Ship_Type, Route_Type, Speed, Distance, Cargo Weight\n",
    "# Target: Operational_Cost_USD\n",
    "X = data[['Ship_Type', 'Route_Type', 'Speed_Over_Ground_knots', 'Distance_Traveled_nm', 'Cargo_Weight_tons']]\n",
    "y = data['Operational_Cost_USD']\n",
    "\n",
    "# Convert categorical features to numerical using one-hot encoding\n",
    "X = pd.get_dummies(X, columns=['Ship_Type', 'Route_Type'], drop_first=True)\n",
    "\n",
    "# Save the training columns (needed later in the UI)\n",
    "training_columns = X.columns\n",
    "\n",
    "# Split data into training and testing sets (80/20 split)\n",
    "X_train, X_test, y_train, y_test = train_test_split(X, y, test_size=0.2, random_state=42)\n",
    "\n",
    "# Standardize the features\n",
    "scaler = StandardScaler()\n",
    "X_train_scaled = scaler.fit_transform(X_train)\n",
    "X_test_scaled = scaler.transform(X_test)\n",
    "\n",
    "# Train a Linear Regression model\n",
    "model = LinearRegression()\n",
    "model.fit(X_train_scaled, y_train)\n",
    "\n",
    "# Evaluate the model\n",
    "y_pred = model.predict(X_test_scaled)\n",
    "mse = mean_squared_error(y_test, y_pred)\n",
    "r2 = r2_score(y_test, y_pred)\n",
    "rmse = np.sqrt(mse)\n",
    "print(f\"Mean Squared Error: {mse}\")\n",
    "print(f\"R-squared: {r2}\")\n",
    "print(f\"Root Mean Squared Error: {rmse}\")\n",
    "\n",
    "# Save the model, scaler, and training columns using pickle\n",
    "pickle.dump(model, open(\"model.pkl\", \"wb\"))\n",
    "pickle.dump(scaler, open(\"scaler.pkl\", \"wb\"))\n",
    "pickle.dump(training_columns, open(\"training_columns.pkl\", \"wb\"))\n",
    "\n",
    "print(\"Model, scaler, and training columns saved successfully!\")\n"
   ]
  },
  {
   "cell_type": "code",
   "execution_count": null,
   "id": "fcb8bcdf-e2c9-4413-95b6-2db88f146638",
   "metadata": {},
   "outputs": [],
   "source": []
  }
 ],
 "metadata": {
  "kernelspec": {
   "display_name": "Python 3 (ipykernel)",
   "language": "python",
   "name": "python3"
  },
  "language_info": {
   "codemirror_mode": {
    "name": "ipython",
    "version": 3
   },
   "file_extension": ".py",
   "mimetype": "text/x-python",
   "name": "python",
   "nbconvert_exporter": "python",
   "pygments_lexer": "ipython3",
   "version": "3.9.13"
  }
 },
 "nbformat": 4,
 "nbformat_minor": 5
}
