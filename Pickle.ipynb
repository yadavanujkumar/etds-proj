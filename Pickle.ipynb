{"cells":[{"cellId":"ca20728d2a8f45a89edb60635f0742d9","cell_type":"code","metadata":{"cell_id":"ca20728d2a8f45a89edb60635f0742d9","deepnote_cell_type":"code"},"source":"","block_group":"ca20728d2a8f45a89edb60635f0742d9","execution_count":null,"outputs":[],"outputs_reference":null,"content_dependencies":null}],
        "metadata": {"deepnote_notebook_id":"890d61dacf6746d79fd5eb6420f3a1dc"},
        "nbformat": 4,
        "nbformat_minor": 0,
        "version": 0
      }